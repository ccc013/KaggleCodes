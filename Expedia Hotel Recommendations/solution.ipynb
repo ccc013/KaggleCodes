{
 "cells": [
  {
   "cell_type": "markdown",
   "metadata": {},
   "source": [
    "#### 酒店集群推荐比赛代码"
   ]
  },
  {
   "cell_type": "code",
   "execution_count": 25,
   "metadata": {
    "collapsed": true
   },
   "outputs": [],
   "source": [
    "import pandas as pd\n",
    "import seaborn as sns\n",
    "import numpy as np\n",
    "sns.set_style('whitegrid')\n",
    "\n",
    "destinations = pd.read_csv(\"destinations.csv\")\n",
    "test = pd.read_csv(\"test.csv\")\n",
    "train = pd.read_csv(\"train.csv\")"
   ]
  },
  {
   "cell_type": "markdown",
   "metadata": {},
   "source": [
    "查看训练数据的前几行数据以及训练数据的维度"
   ]
  },
  {
   "cell_type": "code",
   "execution_count": 26,
   "metadata": {
    "collapsed": false
   },
   "outputs": [
    {
     "name": "stdout",
     "output_type": "stream",
     "text": [
      "             date_time  site_name  posa_continent  user_location_country  \\\n",
      "0  2014-08-11 07:46:59          2               3                     66   \n",
      "1  2014-08-11 08:22:12          2               3                     66   \n",
      "2  2014-08-11 08:24:33          2               3                     66   \n",
      "3  2014-08-09 18:05:16          2               3                     66   \n",
      "4  2014-08-09 18:08:18          2               3                     66   \n",
      "\n",
      "   user_location_region  user_location_city  orig_destination_distance  \\\n",
      "0                   348               48862                  2234.2641   \n",
      "1                   348               48862                  2234.2641   \n",
      "2                   348               48862                  2234.2641   \n",
      "3                   442               35390                   913.1932   \n",
      "4                   442               35390                   913.6259   \n",
      "\n",
      "   user_id  is_mobile  is_package      ...        srch_children_cnt  \\\n",
      "0       12          0           1      ...                        0   \n",
      "1       12          0           1      ...                        0   \n",
      "2       12          0           0      ...                        0   \n",
      "3       93          0           0      ...                        0   \n",
      "4       93          0           0      ...                        0   \n",
      "\n",
      "  srch_rm_cnt srch_destination_id  srch_destination_type_id  is_booking  cnt  \\\n",
      "0           1                8250                         1           0    3   \n",
      "1           1                8250                         1           1    1   \n",
      "2           1                8250                         1           0    1   \n",
      "3           1               14984                         1           0    1   \n",
      "4           1               14984                         1           0    1   \n",
      "\n",
      "   hotel_continent  hotel_country  hotel_market  hotel_cluster  \n",
      "0                2             50           628              1  \n",
      "1                2             50           628              1  \n",
      "2                2             50           628              1  \n",
      "3                2             50          1457             80  \n",
      "4                2             50          1457             21  \n",
      "\n",
      "[5 rows x 24 columns]\n",
      "(37670293, 24)\n"
     ]
    }
   ],
   "source": [
    "print(train.head())\n",
    "print(train.shape)"
   ]
  },
  {
   "cell_type": "code",
   "execution_count": 32,
   "metadata": {
    "collapsed": false
   },
   "outputs": [
    {
     "name": "stdout",
     "output_type": "stream",
     "text": [
      "<class 'pandas.core.frame.DataFrame'>\n",
      "RangeIndex: 37670293 entries, 0 to 37670292\n",
      "Data columns (total 24 columns):\n",
      "date_time                    object\n",
      "site_name                    int64\n",
      "posa_continent               int64\n",
      "user_location_country        int64\n",
      "user_location_region         int64\n",
      "user_location_city           int64\n",
      "orig_destination_distance    float64\n",
      "user_id                      int64\n",
      "is_mobile                    int64\n",
      "is_package                   int64\n",
      "channel                      int64\n",
      "srch_ci                      object\n",
      "srch_co                      object\n",
      "srch_adults_cnt              int64\n",
      "srch_children_cnt            int64\n",
      "srch_rm_cnt                  int64\n",
      "srch_destination_id          int64\n",
      "srch_destination_type_id     int64\n",
      "is_booking                   int64\n",
      "cnt                          int64\n",
      "hotel_continent              int64\n",
      "hotel_country                int64\n",
      "hotel_market                 int64\n",
      "hotel_cluster                int64\n",
      "dtypes: float64(1), int64(20), object(3)\n",
      "memory usage: 6.7+ GB\n",
      "None\n"
     ]
    },
    {
     "data": {
      "text/plain": [
       "srch_destination_id\n",
       "0            2\n",
       "1           66\n",
       "2           14\n",
       "3           15\n",
       "4         1325\n",
       "5            1\n",
       "6            2\n",
       "7            9\n",
       "8         2911\n",
       "9          182\n",
       "10          45\n",
       "11         549\n",
       "13           8\n",
       "14         530\n",
       "16         704\n",
       "17           9\n",
       "18          39\n",
       "19        2887\n",
       "20           1\n",
       "21       11980\n",
       "22           5\n",
       "23          51\n",
       "24        3478\n",
       "25        5634\n",
       "26         231\n",
       "27        4138\n",
       "28           4\n",
       "29           1\n",
       "30          64\n",
       "31          12\n",
       "         ...  \n",
       "65027       14\n",
       "65028       16\n",
       "65031       10\n",
       "65032        2\n",
       "65034        1\n",
       "65035      399\n",
       "65037        3\n",
       "65039       20\n",
       "65041        4\n",
       "65042       11\n",
       "65043        1\n",
       "65047       33\n",
       "65049        5\n",
       "65050        3\n",
       "65051       16\n",
       "65054        2\n",
       "65055        2\n",
       "65056        4\n",
       "65058        1\n",
       "65059        1\n",
       "65060        1\n",
       "65063        2\n",
       "65066        1\n",
       "65068        7\n",
       "65087        1\n",
       "65098        3\n",
       "65102        4\n",
       "65103        6\n",
       "65104        3\n",
       "65107        1\n",
       "dtype: int64"
      ]
     },
     "execution_count": 32,
     "metadata": {},
     "output_type": "execute_result"
    }
   ],
   "source": [
    "# 查看各个属性的具体数据\n",
    "print(train.info())\n",
    "# 查看不同属性的具体统计\n",
    "#print(train.describe())\n",
    "train.groupby('srch_destination_id').size()"
   ]
  },
  {
   "cell_type": "markdown",
   "metadata": {},
   "source": [
    "* date_time： 预订酒店的时间\n",
    "* site_name： 用户访问的网站名字\n",
    "* posa_continent：跟网站名字想关联的大洲\n",
    "* user_location_country,user_location_region,user_location_city：用户所在国家、地区和城市\n",
    "* orig_destination_distance：用户搜索的时候与酒店的物理距离\n",
    "* user_id：用户id\n",
    "* is_mobile：是否使用了电话服务，1表示有\n",
    "* is_package：是否通过飞行到达酒店\n",
    "* channel：购买渠道\n",
    "* srch_ci,srch_co：入住时间和离开时间\n",
    "* srch_adults_cnt，srch_children_cnt，srch_rm_cnt：成人、小孩和房间数量\n",
    "* srch_destination_id， srch_destination_type_id：酒店所在地的id以及类型\n",
    "* is_booking：1表示预订，0表示点击\n",
    "* cnt：在Expedia网站的session(网站服务器记录用户的会话密匙)相似事件的数量，应该是指用户相似的历史行为\n",
    "* hotel_continent，hotel_country，hotel_market：酒店所在大洲，国家和market\n",
    "* hotel_cluster：酒店所在集群id，也是需要预测的属性"
   ]
  },
  {
   "cell_type": "markdown",
   "metadata": {},
   "source": [
    "查看测试数据"
   ]
  },
  {
   "cell_type": "code",
   "execution_count": 31,
   "metadata": {
    "collapsed": false
   },
   "outputs": [
    {
     "name": "stdout",
     "output_type": "stream",
     "text": [
      "(2528243, 22)\n",
      "<class 'pandas.core.frame.DataFrame'>\n",
      "RangeIndex: 2528243 entries, 0 to 2528242\n",
      "Data columns (total 22 columns):\n",
      "id                           int64\n",
      "date_time                    object\n",
      "site_name                    int64\n",
      "posa_continent               int64\n",
      "user_location_country        int64\n",
      "user_location_region         int64\n",
      "user_location_city           int64\n",
      "orig_destination_distance    float64\n",
      "user_id                      int64\n",
      "is_mobile                    int64\n",
      "is_package                   int64\n",
      "channel                      int64\n",
      "srch_ci                      object\n",
      "srch_co                      object\n",
      "srch_adults_cnt              int64\n",
      "srch_children_cnt            int64\n",
      "srch_rm_cnt                  int64\n",
      "srch_destination_id          int64\n",
      "srch_destination_type_id     int64\n",
      "hotel_continent              int64\n",
      "hotel_country                int64\n",
      "hotel_market                 int64\n",
      "dtypes: float64(1), int64(18), object(3)\n",
      "memory usage: 424.4+ MB\n",
      "None\n"
     ]
    }
   ],
   "source": [
    "print(test.shape)\n",
    "print(test.info())\n",
    "#print(test.head())"
   ]
  },
  {
   "cell_type": "markdown",
   "metadata": {},
   "source": [
    "测试数据少了**`hotel_cluster`**和**'is_booking'**两个属性，前者是需要预测的值，而如果is_booking的值是0，表明是一次点击，值是1表明是一个预定。**测试数据集值包含预定事件，即默认'is_booking = 1'**\n",
    "另外，测试数据的**'data_time'**是从2015年开始，而训练数据的是在2013-2014两年内的。"
   ]
  },
  {
   "cell_type": "markdown",
   "metadata": {},
   "source": [
    "查看destination.csv内容"
   ]
  },
  {
   "cell_type": "code",
   "execution_count": 35,
   "metadata": {
    "collapsed": false
   },
   "outputs": [
    {
     "name": "stdout",
     "output_type": "stream",
     "text": [
      "(62106, 150)\n",
      "<class 'pandas.core.frame.DataFrame'>\n",
      "RangeIndex: 62106 entries, 0 to 62105\n",
      "Columns: 150 entries, srch_destination_id to d149\n",
      "dtypes: float64(149), int64(1)\n",
      "memory usage: 71.1 MB\n",
      "None\n"
     ]
    }
   ],
   "source": [
    "print(destinations.shape)\n",
    "print(destinations.info())\n",
    "#print(destinations.head())\n",
    "#print(destinations.groupby(['srch_destination_id']).size())"
   ]
  },
  {
   "cell_type": "markdown",
   "metadata": {},
   "source": [
    "因此训练数据有3700万条数据，测试数据也有200万行数据。destinations则包含了**srch_destination_id**以及相关的隐含特征，训练数据包含65107个，而该数据中仅有62106，说明有部分酒店是新开的。"
   ]
  },
  {
   "cell_type": "code",
   "execution_count": 39,
   "metadata": {
    "collapsed": false
   },
   "outputs": [
    {
     "name": "stdout",
     "output_type": "stream",
     "text": [
      "test_user numbers: 1181577\n",
      "train_user numbers: 1198786\n",
      "True\n"
     ]
    }
   ],
   "source": [
    "# 创建包含所有测试数据集用户id唯一值的集合\n",
    "test_ids = set(test.user_id.unique())\n",
    "print('test_user numbers:',len(test_ids))\n",
    "# 创建包含所有训练数据集用户id唯一值的集合\n",
    "train_ids = set(train.user_id.unique())\n",
    "print('train_user numbers:',len(train_ids))\n",
    "# 计算出有多少测试数据中的用户id在训练集中的用户id中\n",
    "intersection_count = len(test_ids & train_ids)\n",
    "# 看看匹配的数目和测试数据集的用户id总数是否一样\n",
    "print(intersection_count == len(test_ids))"
   ]
  },
  {
   "cell_type": "markdown",
   "metadata": {},
   "source": [
    "训练数据中总共有119万多用户，而测试集也有118万用户，并且都在训练集中出现过"
   ]
  },
  {
   "cell_type": "code",
   "execution_count": 43,
   "metadata": {
    "collapsed": false
   },
   "outputs": [],
   "source": [
    "# 查看训练数据中 hotel_cluster，即每个集群中酒店的个数，hotel_cluster就是待预测值\n",
    "#print(train['hotel_cluster'].value_counts())\n",
    "#print(train.groupby('hotel_cluster').size())"
   ]
  },
  {
   "cell_type": "markdown",
   "metadata": {},
   "source": [
    "所以总共有100个酒店集群，也就有100个类，目标是给每个用户预测前5个最有可能的酒店集群"
   ]
  },
  {
   "cell_type": "code",
   "execution_count": 44,
   "metadata": {
    "collapsed": true
   },
   "outputs": [],
   "source": [
    "# 将data_time列从object转换成datatime值，这能使它比日期工作起来简单许多。\n",
    "# 将year和month从data_time提取出来并赋值到它们的列。\n",
    "train[\"date_time\"] = pd.to_datetime(train[\"date_time\"])\n",
    "train[\"year\"] = train[\"date_time\"].dt.year\n",
    "train[\"month\"] = train[\"date_time\"].dt.month"
   ]
  },
  {
   "cell_type": "code",
   "execution_count": 46,
   "metadata": {
    "collapsed": false
   },
   "outputs": [],
   "source": [
    "import random\n",
    "\n",
    "unique_users = train.user_id.unique()\n",
    "# 随机抽取10000个用户的数据\n",
    "sel_user_ids = [unique_users[i] for i in sorted(random.sample(range(len(unique_users)), 10000)) ]\n",
    "sel_train = train[train.user_id.isin(sel_user_ids)]\n",
    "# 创建新的训练集t1和交叉验证集t2,分别包含2014年8月前的数据和8月后的数据\n",
    "t1 = sel_train[((sel_train.year == 2013) | ((sel_train.year == 2014) & (sel_train.month < 8)))]\n",
    "t2 = sel_train[((sel_train.year == 2014) & (sel_train.month >= 8))]"
   ]
  },
  {
   "cell_type": "code",
   "execution_count": 54,
   "metadata": {
    "collapsed": false
   },
   "outputs": [
    {
     "name": "stdout",
     "output_type": "stream",
     "text": [
      "(8196, 26)\n"
     ]
    }
   ],
   "source": [
    "#如果is_booking的值是0，表明是一次点击，值是1表明是一个预定。\n",
    "#测试数据集值包含预定事件，所以我们也需要将t2简化成只包含预定\n",
    "t2 = t2[t2.is_booking == True]\n",
    "print(t2.shape)"
   ]
  },
  {
   "cell_type": "markdown",
   "metadata": {},
   "source": [
    "一个简单的测试例子，使用mapk程序来计算误差"
   ]
  },
  {
   "cell_type": "code",
   "execution_count": 55,
   "metadata": {
    "collapsed": false
   },
   "outputs": [
    {
     "name": "stdout",
     "output_type": "stream",
     "text": [
      "[91, 41, 48, 64, 65]\n",
      "8196\n",
      "0.0629738083618\n"
     ]
    }
   ],
   "source": [
    "# 展示训练数据集中一个包含五个最常见的集群的列表\n",
    "most_common_clusters = list(train.hotel_cluster.value_counts().head().index)\n",
    "print(most_common_clusters)\n",
    "# 创建一个元素和t2的行数一样多的列表，每个元素等同于most_common_clusters\n",
    "predictions = [most_common_clusters for i in range(t2.shape[0])]\n",
    "print(len(predictions))\n",
    "# 计算Mean Average Precision\n",
    "import average_precision as ap\n",
    "\n",
    "target = [[l] for l in t2[\"hotel_cluster\"]]\n",
    "print(ap.mapk(target, predictions, k=5))"
   ]
  },
  {
   "cell_type": "code",
   "execution_count": 57,
   "metadata": {
    "collapsed": false
   },
   "outputs": [],
   "source": [
    "# 找是否有和hotel_cluster非常相关的元素\n",
    "#print(train.corr()[\"hotel_cluster\"])"
   ]
  },
  {
   "cell_type": "code",
   "execution_count": 58,
   "metadata": {
    "collapsed": true
   },
   "outputs": [],
   "source": [
    "from sklearn.decomposition import PCA\n",
    "# 保留数据集中的3列数据\n",
    "pca = PCA(n_components=3)\n",
    "# 将d1-d149列转换成3列\n",
    "dest_small = pca.fit_transform(destinations[[\"d{0}\".format(i + 1) for i in range(149)]])\n",
    "dest_small = pd.DataFrame(dest_small)\n",
    "dest_small[\"srch_destination_id\"] = destinations[\"srch_destination_id\"]"
   ]
  },
  {
   "cell_type": "code",
   "execution_count": 59,
   "metadata": {
    "collapsed": true
   },
   "outputs": [],
   "source": [
    "def calc_fast_features(df):\n",
    "    \"\"\"\n",
    "    生成新的像data_time的数据特征列。\n",
    "    删除像data_time的非数据列。\n",
    "    从dest_small添加特征。\n",
    "    \"\"\"\n",
    "    df[\"date_time\"] = pd.to_datetime(df[\"date_time\"])\n",
    "    df[\"srch_ci\"] = pd.to_datetime(df[\"srch_ci\"], format='%Y-%m-%d', errors=\"coerce\")\n",
    "    df[\"srch_co\"] = pd.to_datetime(df[\"srch_co\"], format='%Y-%m-%d', errors=\"coerce\")\n",
    "\n",
    "    props = {}\n",
    "    # 生成新的像data_time的数据特征列, 如\"month\", \"day\", \"hour\", \"minute\", \"dayofweek\", \"quarter\"\n",
    "    for prop in [\"month\", \"day\", \"hour\", \"minute\", \"dayofweek\", \"quarter\"]:\n",
    "        props[prop] = getattr(df[\"date_time\"].dt, prop)\n",
    "\n",
    "    carryover = [p for p in df.columns if p not in [\"date_time\", \"srch_ci\", \"srch_co\"]]\n",
    "    #print(carryover)\n",
    "    # 结合其他非时间特征\n",
    "    for prop in carryover:\n",
    "        props[prop] = df[prop]\n",
    "        \n",
    "    date_props = [\"month\", \"day\", \"dayofweek\", \"quarter\"]\n",
    "    # 生成跟住入和离开时间的时间特征生成跟住入和离开时间的时间特征\n",
    "    for prop in date_props:\n",
    "        props[\"ci_{0}\".format(prop)] = getattr(df[\"srch_ci\"].dt, prop)\n",
    "        props[\"co_{0}\".format(prop)] = getattr(df[\"srch_co\"].dt, prop)\n",
    "    props[\"stay_span\"] = (df[\"srch_co\"] - df[\"srch_ci\"]).astype('timedelta64[h]')\n",
    "\n",
    "    ret = pd.DataFrame(props)\n",
    "    # 从dest_small添加特征\n",
    "    ret = ret.join(dest_small, on=\"srch_destination_id\", how='left', rsuffix=\"dest\")\n",
    "    ret = ret.drop(\"srch_destination_iddest\", axis=1)\n",
    "    return ret"
   ]
  },
  {
   "cell_type": "code",
   "execution_count": 60,
   "metadata": {
    "collapsed": false
   },
   "outputs": [
    {
     "name": "stderr",
     "output_type": "stream",
     "text": [
      "/home/cai/anaconda3/lib/python3.6/site-packages/ipykernel/__main__.py:7: SettingWithCopyWarning: \n",
      "A value is trying to be set on a copy of a slice from a DataFrame.\n",
      "Try using .loc[row_indexer,col_indexer] = value instead\n",
      "\n",
      "See the caveats in the documentation: http://pandas.pydata.org/pandas-docs/stable/indexing.html#indexing-view-versus-copy\n",
      "/home/cai/anaconda3/lib/python3.6/site-packages/ipykernel/__main__.py:8: SettingWithCopyWarning: \n",
      "A value is trying to be set on a copy of a slice from a DataFrame.\n",
      "Try using .loc[row_indexer,col_indexer] = value instead\n",
      "\n",
      "See the caveats in the documentation: http://pandas.pydata.org/pandas-docs/stable/indexing.html#indexing-view-versus-copy\n",
      "/home/cai/anaconda3/lib/python3.6/site-packages/ipykernel/__main__.py:9: SettingWithCopyWarning: \n",
      "A value is trying to be set on a copy of a slice from a DataFrame.\n",
      "Try using .loc[row_indexer,col_indexer] = value instead\n",
      "\n",
      "See the caveats in the documentation: http://pandas.pydata.org/pandas-docs/stable/indexing.html#indexing-view-versus-copy\n"
     ]
    }
   ],
   "source": [
    "df = calc_fast_features(t1)\n",
    "# 用-1替换所有的缺失值\n",
    "df.fillna(-1, inplace=True)"
   ]
  },
  {
   "cell_type": "code",
   "execution_count": 61,
   "metadata": {
    "collapsed": false
   },
   "outputs": [
    {
     "name": "stderr",
     "output_type": "stream",
     "text": [
      "/home/cai/anaconda3/lib/python3.6/site-packages/sklearn/cross_validation.py:44: DeprecationWarning: This module was deprecated in version 0.18 in favor of the model_selection module into which all the refactored classes and functions are moved. Also note that the interface of the new CV iterators are different from that of this module. This module will be removed in 0.20.\n",
      "  \"This module will be removed in 0.20.\", DeprecationWarning)\n"
     ]
    },
    {
     "name": "stdout",
     "output_type": "stream",
     "text": [
      "[ 0.06807258  0.06869449  0.06643914]\n"
     ]
    }
   ],
   "source": [
    "# 用随机森林算法来生成预测, 使用3折交叉验证使用训练数据集来生成一个可靠的误差估计\n",
    "predictors = [c for c in df.columns if c not in [\"hotel_cluster\"]]\n",
    "from sklearn import cross_validation\n",
    "from sklearn.ensemble import RandomForestClassifier\n",
    "\n",
    "clf = RandomForestClassifier(n_estimators=10, min_weight_fraction_leaf=0.1)\n",
    "scores = cross_validation.cross_val_score(clf, df[predictors], df['hotel_cluster'], cv=3)\n",
    "print(scores)"
   ]
  },
  {
   "cell_type": "code",
   "execution_count": 67,
   "metadata": {
    "collapsed": false
   },
   "outputs": [],
   "source": [
    "# 聚合'orig_destination_distance'会为每一个目标找到最受欢迎的酒店集群，\n",
    "#然后我们就能够预测某个用户搜索的目标是最受欢迎的酒店集群中的一个\n",
    "def make_key(items):\n",
    "    return \"_\".join([str(i) for i in items])\n",
    "\n",
    "match_cols = [\"srch_destination_id\"]\n",
    "cluster_cols = match_cols + ['hotel_cluster']\n",
    "\n",
    "# 通过srch_destination_id，hotel_cluster将t1分组\n",
    "groups = t1.groupby(cluster_cols)\n",
    "#print(groups.size())"
   ]
  },
  {
   "cell_type": "code",
   "execution_count": 71,
   "metadata": {
    "collapsed": false
   },
   "outputs": [
    {
     "name": "stdout",
     "output_type": "stream",
     "text": [
      "4 {14: 0.15, 22: 1.3, 29: 0.15, 30: 0.3, 32: 0.44999999999999996, 38: 2.6, 40: 0.44999999999999996, 53: 0.15, 62: 0.15, 78: 1.75, 81: 0.15, 85: 0.3, 89: 0.15, 93: 0.3, 99: 1.3}\n"
     ]
    }
   ],
   "source": [
    "top_clusters = {}\n",
    "for name, group in groups:\n",
    "    clicks = len(group.is_booking[group.is_booking == False])\n",
    "    bookings = len(group.is_booking[group.is_booking == True])\n",
    "    score = bookings + .15 * clicks\n",
    "\n",
    "    clus_name = make_key(name[:len(match_cols)])\n",
    "    if clus_name not in top_clusters:\n",
    "        top_clusters[clus_name] = {}\n",
    "    top_clusters[clus_name][name[-1]] = score"
   ]
  },
  {
   "cell_type": "markdown",
   "metadata": {},
   "source": [
    "这样就得到每个**srch_destination_id**对应的酒店集群，以及该酒店集群在该srch_destination_id中的权值，这个权值则根据对应的事件是预订还是点击来得到。下面则分别找到排在前五的酒店集群"
   ]
  },
  {
   "cell_type": "code",
   "execution_count": 72,
   "metadata": {
    "collapsed": false
   },
   "outputs": [
    {
     "name": "stdout",
     "output_type": "stream",
     "text": [
      "4 [38, 78, 22, 99, 32]\n"
     ]
    }
   ],
   "source": [
    "import operator\n",
    "# 变换 top_clusters 这个字典来找到每个'srch_destination_id'的前五个酒店集群\n",
    "cluster_dict = {}\n",
    "for n in top_clusters:\n",
    "    tc = top_clusters[n]\n",
    "    # 找到键中的最高的5个集群\n",
    "    top = [l[0] for l in sorted(tc.items(), key=operator.itemgetter(1), reverse=True)[:5]]\n",
    "    cluster_dict[n] = top\n",
    "for k, v in cluster_dict.items():\n",
    "    print(k,v)\n",
    "    break"
   ]
  },
  {
   "cell_type": "markdown",
   "metadata": {},
   "source": [
    "开始进行预测"
   ]
  },
  {
   "cell_type": "code",
   "execution_count": 92,
   "metadata": {
    "collapsed": false
   },
   "outputs": [
    {
     "name": "stdout",
     "output_type": "stream",
     "text": [
      "[[83, 40, 59, 14, 21], [47, 23, 51, 5, 42], [], [0, 84, 41, 96, 33], [97]]\n",
      "0.230264763299\n"
     ]
    }
   ],
   "source": [
    "preds = []\n",
    "for index, row in t2.iterrows():\n",
    "    key = make_key([row[m] for m in match_cols])\n",
    "    if key in cluster_dict:\n",
    "        preds.append(cluster_dict[key])\n",
    "    else:\n",
    "        preds.append([])\n",
    "#print('preds=', preds)\n",
    "print(preds[:5])\n",
    "# 使用mapk函数来计算准确率\n",
    "print(ap.mapk([[l] for l in t2[\"hotel_cluster\"]], preds, k = 5))"
   ]
  },
  {
   "cell_type": "markdown",
   "metadata": {},
   "source": [
    "预测也是迭代t2数据集的每一行，找到每行的srch_destination_id值，通过这个数值来查找之前生成的字典**cluster_dict**,如果存在这个id键值，就将其键值对应的内容，也就是5个酒店集群作为这一行的预测。\n",
    "通过计算误差的方法可以得到"
   ]
  },
  {
   "cell_type": "markdown",
   "metadata": {},
   "source": [
    "接下来将使用另一种方法"
   ]
  },
  {
   "cell_type": "code",
   "execution_count": 111,
   "metadata": {
    "collapsed": true
   },
   "outputs": [],
   "source": [
    "match_cols = ['user_location_country', 'user_location_region', 'user_location_city', \\\n",
    "              'hotel_market', 'orig_destination_distance']\n",
    "# 将训练数据集以匹配的列切分分组\n",
    "groups = t1.groupby(match_cols)\n",
    "#print(group)\n",
    "def generate_exact_matches(row, match_cols):\n",
    "    index = tuple([row[t] for t in match_cols])\n",
    "    #print('index:',index)\n",
    "    try:\n",
    "        group = groups.get_group(index)\n",
    "    except Exception:\n",
    "        return []\n",
    "    clus = list(set(group.hotel_cluster))\n",
    "    #print('group:',group)\n",
    "    #print('clus:',clus)\n",
    "    return clus"
   ]
  },
  {
   "cell_type": "code",
   "execution_count": 113,
   "metadata": {
    "collapsed": false
   },
   "outputs": [],
   "source": [
    "exact_matches = []\n",
    "for i in range(t2.shape[0]):\n",
    "    #print(i)\n",
    "    exact_matches.append(generate_exact_matches(t2.iloc[i], match_cols))\n",
    "#print(exact_matches)"
   ]
  },
  {
   "cell_type": "markdown",
   "metadata": {},
   "source": [
    "**exact_matches**是根据给定的用户所在地三个特征加酒店的2个特征对训练集分组，然后在测试集中找到这5个特征的数值，并根据它们去训练集分好的组中寻找是否有符合的，如果有就返回该小组的**hotel_cluster**数值。这相当于在测试集中找到匹配数据集的用户。"
   ]
  },
  {
   "cell_type": "code",
   "execution_count": 120,
   "metadata": {
    "collapsed": false
   },
   "outputs": [
    {
     "name": "stdout",
     "output_type": "stream",
     "text": [
      "[91, 41, 48, 64, 65]\n"
     ]
    }
   ],
   "source": [
    "# 展示训练数据集中一个包含五个最常见的集群的列表\n",
    "most_common_clusters = list(train.hotel_cluster.value_counts().head().index)\n",
    "# 展示训练集中包含最多酒店数量的5个 hotel_cluster\n",
    "#print(most_common_clusters)"
   ]
  },
  {
   "cell_type": "code",
   "execution_count": 119,
   "metadata": {
    "collapsed": false
   },
   "outputs": [
    {
     "name": "stdout",
     "output_type": "stream",
     "text": [
      "0.230264763299\n"
     ]
    }
   ],
   "source": [
    "# 使用f5函数在给定序列只选取唯一的数值，并且按原来顺序排列，如给定[1,2,2,3,2,5,4]将返回[1,2,3,5,4]\n",
    "def f5(seq, idfun=None):\n",
    "    if idfun is None:\n",
    "        def idfun(x): return x\n",
    "    seen = {}\n",
    "    result = []\n",
    "    for item in seq:\n",
    "        marker = idfun(item)\n",
    "        if marker in seen: continue\n",
    "        seen[marker] = 1\n",
    "        result.append(item)\n",
    "    return result\n",
    "\n",
    "full_preds = [f5(exact_matches[p] + preds[p] + most_common_clusters)[:5] for p in range(len(preds))]\n",
    "print(ap.mapk([[l] for l in t2['hotel_cluster']], preds, k = 5))"
   ]
  },
  {
   "cell_type": "markdown",
   "metadata": {},
   "source": [
    "所以最终是通过特征工程选取特定的特征来进行预测得到的结果。\n",
    "* 第一个是根据**destination_id**和**hotel_cluster**两个特征值，根据**destination_id**在训练集曾经所在的**hotel_cluster**,以及用户历史的操作，即点击还是预订事件来计算权重，生成一个字典，并且选择前5个**hotel_cluster**，测试集只需要找到对应的**destination_id**值，然后查找字典即可得到**hotel_cluster**预测值。\n",
    "* 第二个就是利用**'user_location_country', 'user_location_region', 'user_location_city','hotel_market', 'orig_destination_distance'**5个特征来对训练集分组，然后在测试集也是根据这5个特征来匹配用户，找到训练集对应的用户，并使用其**hotel_cluster**作为预测值。\n",
    "* **most_common_clusters**则是简单找到在训练集中包含最多酒店数量的5个 hotel_cluster。"
   ]
  },
  {
   "cell_type": "markdown",
   "metadata": {},
   "source": [
    "最后就算保存预测数据，格式是csv"
   ]
  },
  {
   "cell_type": "code",
   "execution_count": null,
   "metadata": {
    "collapsed": true
   },
   "outputs": [],
   "source": [
    "# save to csv file\n",
    "write_p = [\" \".join([str(l) for l in p]) for p in full_preds]\n",
    "write_frame = [\"{0},{1}\".format(t2[\"id\"][i], write_p[i]) for i in range(len(full_preds))]\n",
    "write_frame = [\"id,hotel_cluster\"] + write_frame\n",
    "with open(\"predictions.csv\", \"w+\") as f:\n",
    "    f.write(\"\\n\".join(write_frame))\n",
    "\n",
    "end = time.time()\n",
    "print('totally time is ', end-start_time)"
   ]
  }
 ],
 "metadata": {
  "kernelspec": {
   "display_name": "Python 3",
   "language": "python",
   "name": "python3"
  },
  "language_info": {
   "codemirror_mode": {
    "name": "ipython",
    "version": 3
   },
   "file_extension": ".py",
   "mimetype": "text/x-python",
   "name": "python",
   "nbconvert_exporter": "python",
   "pygments_lexer": "ipython3",
   "version": "3.6.0"
  }
 },
 "nbformat": 4,
 "nbformat_minor": 2
}
